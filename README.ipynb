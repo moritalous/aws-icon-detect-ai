{
 "cells": [
  {
   "cell_type": "code",
   "execution_count": null,
   "metadata": {},
   "outputs": [],
   "source": [
    "!pip install torch==1.8.2 torchvision==0.9.2 --extra-index-url https://download.pytorch.org/whl/lts/1.8/cpu\n",
    "!pip install tensorflow numpy yolov5"
   ]
  },
  {
   "cell_type": "code",
   "execution_count": null,
   "metadata": {},
   "outputs": [],
   "source": [
    "import glob\n",
    "import os\n",
    "import pathlib\n",
    "import shutil\n",
    "\n",
    "import numpy as np\n",
    "import tensorflow as tf\n",
    "\n",
    "TARGET_DIR = 'train_image'\n",
    "\n",
    "TRAIN_IMAGE = 'train_image'\n",
    "VAL_IMAGE = 'val_image'\n",
    "TRAIN_DIR = 'train_yolo5'\n",
    "VAL_DIR = 'val_yolo5'\n",
    "TRAIN_LABEL_DIR = 'train_yolo5/labels'\n",
    "VAL_LABEL_DIR = 'val_yolo5/labels'\n",
    "TRAIN_IMAGE_DIR = 'train_yolo5/images'\n",
    "VAL_IMAGE_DIR = 'val_yolo5/images'"
   ]
  },
  {
   "cell_type": "markdown",
   "metadata": {},
   "source": [
    "# 画像ファイルの取得"
   ]
  },
  {
   "cell_type": "code",
   "execution_count": null,
   "metadata": {},
   "outputs": [],
   "source": [
    "!curl -o asset.zip -L https://d1.awsstatic.com/webteam/architecture-icons/q2-2022/Asset-Package_04302022.e942f826cd826cfa2d32455f3a7973ad4b92eb6a.zip\n",
    "!unzip asset.zip -d asset"
   ]
  },
  {
   "cell_type": "markdown",
   "metadata": {},
   "source": [
    "# 画像の収集と水増し"
   ]
  },
  {
   "cell_type": "code",
   "execution_count": null,
   "metadata": {},
   "outputs": [],
   "source": [
    "def collect_target_image():\n",
    "\n",
    "    image_generator = tf.keras.preprocessing.image.ImageDataGenerator(\n",
    "        zoom_range=[0.9, 1.1],\n",
    "        # rotation_range=2,\n",
    "        width_shift_range=0.1,\n",
    "        height_shift_range=0.1,\n",
    "        # channel_shift_range=10.0,\n",
    "        fill_mode='constant',\n",
    "        cval=255\n",
    "    )\n",
    "\n",
    "    os.mkdir(TARGET_DIR)\n",
    "    \n",
    "    files = glob.glob(\n",
    "        f'asset/Architecture-Service-Icons_*/**/*64.png', recursive=True)\n",
    "\n",
    "    for file in files:\n",
    "        f = pathlib.Path(file)\n",
    "        f.name\n",
    "        name = f.stem.replace(\n",
    "            'Arch_AWS-', '').replace('Arch_Amazon-', '').replace('Arch_', '').replace('_64', '')\n",
    "\n",
    "        original_dir = f'{TARGET_DIR}/{name}'\n",
    "        original_file = f'{original_dir}/{name}.png'\n",
    "\n",
    "        try:\n",
    "            os.mkdir(original_dir)\n",
    "            shutil.copyfile(f, original_file)\n",
    "        except:\n",
    "            pass\n",
    "\n",
    "        target_img = tf.keras.preprocessing.image.load_img(original_file)\n",
    "        target_img = np.array(target_img)\n",
    "        x = target_img.reshape((1,) + target_img.shape)\n",
    "\n",
    "        generator = image_generator.flow(x,\n",
    "                                         save_to_dir=original_dir,\n",
    "                                         save_prefix=name,\n",
    "                                         save_format='png')\n",
    "\n",
    "        for i in range(10):\n",
    "            generator.next()\n",
    "\n",
    "\n",
    "collect_target_image()"
   ]
  },
  {
   "cell_type": "markdown",
   "metadata": {},
   "source": [
    "# 学習データと検証データの分割"
   ]
  },
  {
   "cell_type": "code",
   "execution_count": null,
   "metadata": {},
   "outputs": [],
   "source": [
    "def split_val():\n",
    "    os.mkdir(VAL_IMAGE)\n",
    "    dirs = os.listdir(TRAIN_IMAGE)\n",
    "\n",
    "    for dir in dirs:\n",
    "        os.mkdir(f'{VAL_IMAGE}/{dir}')\n",
    "\n",
    "        files = os.listdir(f'{TRAIN_IMAGE}/{dir}')\n",
    "        \n",
    "        for file in files[:10]:            \n",
    "            shutil.move(f'{TRAIN_IMAGE}/{dir}/{file}', f'{VAL_IMAGE}/{dir}/')\n",
    "\n",
    "\n",
    "split_val()"
   ]
  },
  {
   "cell_type": "markdown",
   "metadata": {},
   "source": [
    "# ラベルの作成"
   ]
  },
  {
   "cell_type": "code",
   "execution_count": null,
   "metadata": {},
   "outputs": [],
   "source": [
    "def create_label():    \n",
    "    os.mkdir(TRAIN_DIR)\n",
    "    os.mkdir(VAL_DIR)\n",
    "    os.mkdir(TRAIN_LABEL_DIR)\n",
    "    os.mkdir(VAL_LABEL_DIR)\n",
    "\n",
    "    dirs = sorted(os.listdir(TRAIN_IMAGE))\n",
    "\n",
    "    for i, dir in enumerate(dirs):\n",
    "        train_files = os.listdir(f'{TRAIN_IMAGE}/{dir}')\n",
    "\n",
    "        for file in train_files:\n",
    "            with open(f'{TRAIN_LABEL_DIR}/{file[:-4]}.txt', 'w') as f:\n",
    "                f.write(f'{i} 0.5 0.5 1.0 1.0')\n",
    "\n",
    "        val_files = os.listdir(f'{VAL_IMAGE}/{dir}')\n",
    "\n",
    "        for file in val_files:\n",
    "            with open(f'{VAL_LABEL_DIR}/{file[:-4]}.txt', 'w') as f:\n",
    "                f.write(f'{i} 0.5 0.5 1.0 1.0')\n",
    "\n",
    "\n",
    "create_label()"
   ]
  },
  {
   "cell_type": "markdown",
   "metadata": {},
   "source": [
    "# フォルダー構成の変更"
   ]
  },
  {
   "cell_type": "code",
   "execution_count": null,
   "metadata": {},
   "outputs": [],
   "source": [
    "def move_image():\n",
    "    os.mkdir(TRAIN_IMAGE_DIR)\n",
    "    os.mkdir(VAL_IMAGE_DIR)\n",
    "\n",
    "    dirs = os.listdir(TRAIN_IMAGE)\n",
    "\n",
    "    for dir in dirs:\n",
    "        files = os.listdir(f'{TRAIN_IMAGE}/{dir}')\n",
    "        \n",
    "        for file in files:\n",
    "            shutil.move(f'{TRAIN_IMAGE}/{dir}/{file}', f'{TRAIN_IMAGE_DIR}/')\n",
    "    \n",
    "    dirs = os.listdir(VAL_IMAGE)\n",
    "\n",
    "    for dir in dirs:\n",
    "        files = os.listdir(f'{VAL_IMAGE}/{dir}')\n",
    "        \n",
    "        for file in files:\n",
    "            shutil.move(f'{VAL_IMAGE}/{dir}/{file}', f'{VAL_IMAGE_DIR}/')\n",
    "\n",
    "\n",
    "move_image()"
   ]
  },
  {
   "cell_type": "markdown",
   "metadata": {},
   "source": [
    "# data.yamlの作成"
   ]
  },
  {
   "cell_type": "code",
   "execution_count": null,
   "metadata": {},
   "outputs": [],
   "source": [
    "def create_datayaml():\n",
    "    dirs = sorted(os.listdir(TRAIN_IMAGE))\n",
    "    cwd = os.getcwd()\n",
    "\n",
    "    with open(f'data.yaml', 'w') as f:\n",
    "        f.write(f'train: {cwd}/train_yolo5/images\\n')\n",
    "        f.write(f'val: {cwd}/val_yolo5/images\\n')\n",
    "        f.write('\\n')\n",
    "        f.write(f'nc: {len(dirs)}\\n')\n",
    "        f.write(f'names: {str(dirs)}\\n')\n",
    "\n",
    "\n",
    "create_datayaml()    "
   ]
  },
  {
   "cell_type": "markdown",
   "metadata": {},
   "source": [
    "# 学習"
   ]
  },
  {
   "cell_type": "code",
   "execution_count": null,
   "metadata": {},
   "outputs": [],
   "source": [
    "!yolov5 train --data data.yaml  --imgsz 80 --batch-size 8 --epochs 1"
   ]
  },
  {
   "cell_type": "markdown",
   "metadata": {},
   "source": [
    "# 推論"
   ]
  },
  {
   "cell_type": "code",
   "execution_count": null,
   "metadata": {},
   "outputs": [],
   "source": [
    "!yolov5 detect --weights runs/train/exp/weights/best.pt --source input/"
   ]
  },
  {
   "cell_type": "code",
   "execution_count": null,
   "metadata": {},
   "outputs": [],
   "source": [
    "# marketplaceのアイコンが誤検知するため除外して実行\n",
    "!yolov5 detect --weights runs/train/exp/weights/best.pt --source input/ --classes 1,2,3,4,5,6,7,8,9,10,11,12,13,14,15,16,17,18,19,20,21,22,23,24,25,26,27,28,29,30,31,32,33,34,35,36,37,38,39,40,41,42,43,44,45,46,47,48,49,50,51,52,53,54,55,56,57,58,59,60,61,62,63,64,65,66,67,68,69,70,71,72,73,74,75,76,77,78,79,80,81,82,83,84,85,86,87,88,89,90,91,92,93,94,95,96,97,98,99,100,101,102,103,104,105,106,107,108,109,110,111,112,113,114,115,116,117,118,119,120,121,122,123,124,125,126,127,128,129,130,131,132,133,134,135,136,137,138,139,140,141,142,143,144,145,146,147,148,149,150,151,152,153,154,155,156,157,158,159,160,161,162,163,164,165,166,167,168,169,170,171,172,173,174,175,176,177,178,179,180,181,182,183,184,185,186,187,188,191,192,193,194,195,196,197,198,199,200,201,202,203,204,205,206,207,208,209,210,211,212,213,214,215,216,217,218,219,220,221,222,223,224,225,226,227,228,229,230,231,232,233,234,235,236,237,238,239,240,241,242,243,244,245,246,247,248,249,250,251,252,253,254,255,256,257,258,259,260,261,262,263,264,265,266,267,268,269,270,271,272,273,274,275,276,277,278,279,280,281,282,283,284,285,286,287,288"
   ]
  }
 ],
 "metadata": {
  "kernelspec": {
   "display_name": "Python 3.8.10 ('.venv': venv)",
   "language": "python",
   "name": "python3"
  },
  "language_info": {
   "codemirror_mode": {
    "name": "ipython",
    "version": 3
   },
   "file_extension": ".py",
   "mimetype": "text/x-python",
   "name": "python",
   "nbconvert_exporter": "python",
   "pygments_lexer": "ipython3",
   "version": "3.8.10"
  },
  "orig_nbformat": 4,
  "vscode": {
   "interpreter": {
    "hash": "6b00656b541900113f4a6b3d5ade1df4dc74d73516d44a422502d1a681f6497f"
   }
  }
 },
 "nbformat": 4,
 "nbformat_minor": 2
}
