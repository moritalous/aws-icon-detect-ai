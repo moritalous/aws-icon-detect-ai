{
 "cells": [
  {
   "cell_type": "code",
   "execution_count": null,
   "metadata": {},
   "outputs": [],
   "source": [
    "!pip install torch==1.8.2 torchvision==0.9.2 --extra-index-url https://download.pytorch.org/whl/lts/1.8/cpu\n",
    "!pip install tensorflow numpy yolov5"
   ]
  },
  {
   "cell_type": "code",
   "execution_count": null,
   "metadata": {},
   "outputs": [],
   "source": [
    "import glob\n",
    "import os\n",
    "import pathlib\n",
    "import shutil\n",
    "\n",
    "import numpy as np\n",
    "import tensorflow as tf\n",
    "\n",
    "TARGET_DIR = 'train_image'\n",
    "\n",
    "TRAIN_IMAGE = 'train_image'\n",
    "VAL_IMAGE = 'val_image'\n",
    "TRAIN_DIR = 'train_yolo5'\n",
    "VAL_DIR = 'val_yolo5'\n",
    "TRAIN_LABEL_DIR = 'train_yolo5/labels'\n",
    "VAL_LABEL_DIR = 'val_yolo5/labels'\n",
    "TRAIN_IMAGE_DIR = 'train_yolo5/images'\n",
    "VAL_IMAGE_DIR = 'val_yolo5/images'"
   ]
  },
  {
   "cell_type": "markdown",
   "metadata": {},
   "source": [
    "# 画像ファイルの取得"
   ]
  },
  {
   "cell_type": "code",
   "execution_count": null,
   "metadata": {},
   "outputs": [],
   "source": [
    "!curl -o asset.zip -L https://d1.awsstatic.com/webteam/architecture-icons/q2-2022/Asset-Package_04302022.e942f826cd826cfa2d32455f3a7973ad4b92eb6a.zip\n",
    "!unzip asset.zip -d asset"
   ]
  },
  {
   "cell_type": "markdown",
   "metadata": {},
   "source": [
    "# 画像の収集と水増し"
   ]
  },
  {
   "cell_type": "code",
   "execution_count": null,
   "metadata": {},
   "outputs": [],
   "source": [
    "def collect_target_image():\n",
    "\n",
    "    image_generator = tf.keras.preprocessing.image.ImageDataGenerator(\n",
    "        zoom_range=[0.9, 1.1],\n",
    "        # rotation_range=2,\n",
    "        width_shift_range=0.1,\n",
    "        height_shift_range=0.1,\n",
    "        # channel_shift_range=10.0,\n",
    "        fill_mode='constant',\n",
    "        cval=255\n",
    "    )\n",
    "\n",
    "    os.mkdir(TARGET_DIR)\n",
    "    \n",
    "    files = glob.glob(\n",
    "        f'asset/Architecture-Service-Icons_*/**/*64.png', recursive=True)\n",
    "\n",
    "    for file in files:\n",
    "        f = pathlib.Path(file)\n",
    "        f.name\n",
    "        name = f.stem.replace(\n",
    "            'Arch_AWS-', '').replace('Arch_Amazon-', '').replace('Arch_', '').replace('_64', '')\n",
    "\n",
    "        original_dir = f'{TARGET_DIR}/{name}'\n",
    "        original_file = f'{original_dir}/{name}.png'\n",
    "\n",
    "        try:\n",
    "            os.mkdir(original_dir)\n",
    "            shutil.copyfile(f, original_file)\n",
    "        except:\n",
    "            pass\n",
    "\n",
    "        target_img = tf.keras.preprocessing.image.load_img(original_file)\n",
    "        target_img = np.array(target_img)\n",
    "        x = target_img.reshape((1,) + target_img.shape)\n",
    "\n",
    "        generator = image_generator.flow(x,\n",
    "                                         save_to_dir=original_dir,\n",
    "                                         save_prefix=name,\n",
    "                                         save_format='png')\n",
    "\n",
    "        for i in range(100):\n",
    "            generator.next()\n",
    "\n",
    "\n",
    "collect_target_image()"
   ]
  },
  {
   "cell_type": "markdown",
   "metadata": {},
   "source": [
    "# 学習データと検証データの分割"
   ]
  },
  {
   "cell_type": "code",
   "execution_count": null,
   "metadata": {},
   "outputs": [],
   "source": [
    "def split_val():\n",
    "    os.mkdir(VAL_IMAGE)\n",
    "    dirs = os.listdir(TRAIN_IMAGE)\n",
    "\n",
    "    for dir in dirs:\n",
    "        os.mkdir(f'{VAL_IMAGE}/{dir}')\n",
    "\n",
    "        files = os.listdir(f'{TRAIN_IMAGE}/{dir}')\n",
    "        \n",
    "        for file in files[:10]:            \n",
    "            shutil.move(f'{TRAIN_IMAGE}/{dir}/{file}', f'{VAL_IMAGE}/{dir}/')\n",
    "\n",
    "\n",
    "split_val()"
   ]
  },
  {
   "cell_type": "markdown",
   "metadata": {},
   "source": [
    "# ラベルの作成"
   ]
  },
  {
   "cell_type": "code",
   "execution_count": null,
   "metadata": {},
   "outputs": [],
   "source": [
    "def create_label():    \n",
    "    os.mkdir(TRAIN_DIR)\n",
    "    os.mkdir(VAL_DIR)\n",
    "    os.mkdir(TRAIN_LABEL_DIR)\n",
    "    os.mkdir(VAL_LABEL_DIR)\n",
    "\n",
    "    dirs = sorted(os.listdir(TRAIN_IMAGE))\n",
    "\n",
    "    for i, dir in enumerate(dirs):\n",
    "        train_files = os.listdir(f'{TRAIN_IMAGE}/{dir}')\n",
    "\n",
    "        for file in train_files:\n",
    "            with open(f'{TRAIN_LABEL_DIR}/{file[:-4]}.txt', 'w') as f:\n",
    "                f.write(f'{i} 0.5 0.5 1.0 1.0')\n",
    "\n",
    "        val_files = os.listdir(f'{VAL_IMAGE}/{dir}')\n",
    "\n",
    "        for file in val_files:\n",
    "            with open(f'{VAL_LABEL_DIR}/{file[:-4]}.txt', 'w') as f:\n",
    "                f.write(f'{i} 0.5 0.5 1.0 1.0')\n",
    "\n",
    "\n",
    "create_label()"
   ]
  },
  {
   "cell_type": "markdown",
   "metadata": {},
   "source": [
    "# フォルダー構成の変更"
   ]
  },
  {
   "cell_type": "code",
   "execution_count": null,
   "metadata": {},
   "outputs": [],
   "source": [
    "def move_image():\n",
    "    os.mkdir(TRAIN_IMAGE_DIR)\n",
    "    os.mkdir(VAL_IMAGE_DIR)\n",
    "\n",
    "    dirs = os.listdir(TRAIN_IMAGE)\n",
    "\n",
    "    for dir in dirs:\n",
    "        files = os.listdir(f'{TRAIN_IMAGE}/{dir}')\n",
    "        \n",
    "        for file in files:\n",
    "            shutil.move(f'{TRAIN_IMAGE}/{dir}/{file}', f'{TRAIN_IMAGE_DIR}/')\n",
    "    \n",
    "    dirs = os.listdir(VAL_IMAGE)\n",
    "\n",
    "    for dir in dirs:\n",
    "        files = os.listdir(f'{VAL_IMAGE}/{dir}')\n",
    "        \n",
    "        for file in files:\n",
    "            shutil.move(f'{VAL_IMAGE}/{dir}/{file}', f'{VAL_IMAGE_DIR}/')\n",
    "\n",
    "\n",
    "move_image()"
   ]
  },
  {
   "cell_type": "markdown",
   "metadata": {},
   "source": [
    "# data.yamlの作成"
   ]
  },
  {
   "cell_type": "code",
   "execution_count": null,
   "metadata": {},
   "outputs": [],
   "source": [
    "def create_datayaml():\n",
    "    dirs = sorted(os.listdir(TRAIN_IMAGE))\n",
    "    cwd = os.getcwd()\n",
    "\n",
    "    with open(f'data.yaml', 'w') as f:\n",
    "        f.write(f'train: {cwd}/train_yolo5/images\\n')\n",
    "        f.write(f'val: {cwd}/val_yolo5/images\\n')\n",
    "        f.write('\\n')\n",
    "        f.write(f'nc: {len(dirs)}\\n')\n",
    "        f.write(f'names: {str(dirs)}\\n')\n",
    "\n",
    "\n",
    "create_datayaml()    "
   ]
  },
  {
   "cell_type": "markdown",
   "metadata": {},
   "source": [
    "# 学習"
   ]
  },
  {
   "cell_type": "code",
   "execution_count": null,
   "metadata": {},
   "outputs": [],
   "source": [
    "!yolov5 train --data data.yaml  --imgsz 80 --batch-size 8 --epochs 1"
   ]
  },
  {
   "cell_type": "markdown",
   "metadata": {},
   "source": [
    "# 推論"
   ]
  },
  {
   "cell_type": "code",
   "execution_count": null,
   "metadata": {},
   "outputs": [],
   "source": [
    "!yolov5 detect --weights runs/train/exp/weights/best.pt --source input/"
   ]
  }
 ],
 "metadata": {
  "kernelspec": {
   "display_name": "Python 3.8.10 ('.venv': venv)",
   "language": "python",
   "name": "python3"
  },
  "language_info": {
   "codemirror_mode": {
    "name": "ipython",
    "version": 3
   },
   "file_extension": ".py",
   "mimetype": "text/x-python",
   "name": "python",
   "nbconvert_exporter": "python",
   "pygments_lexer": "ipython3",
   "version": "3.8.10"
  },
  "orig_nbformat": 4,
  "vscode": {
   "interpreter": {
    "hash": "6b00656b541900113f4a6b3d5ade1df4dc74d73516d44a422502d1a681f6497f"
   }
  }
 },
 "nbformat": 4,
 "nbformat_minor": 2
}
